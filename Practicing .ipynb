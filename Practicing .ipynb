{
    "cells": [
        {
            "metadata": {
                "collapsed": true
            },
            "cell_type": "markdown",
            "source": "# Creating tuple "
        },
        {
            "metadata": {},
            "cell_type": "code",
            "source": "tuple1 = (1,2,3,4,5,\"Hamad Alhajri\") # creating tuple\nprint(tuple1)",
            "execution_count": 2,
            "outputs": [
                {
                    "output_type": "stream",
                    "text": "(1, 2, 3, 4, 5, 'Hamad Alhajri')\n",
                    "name": "stdout"
                }
            ]
        },
        {
            "metadata": {},
            "cell_type": "code",
            "source": "# what is the second index in tuple?\n\ntuple1[1]\n",
            "execution_count": 3,
            "outputs": [
                {
                    "output_type": "execute_result",
                    "execution_count": 3,
                    "data": {
                        "text/plain": "2"
                    },
                    "metadata": {}
                }
            ]
        }
    ],
    "metadata": {
        "kernelspec": {
            "name": "python3",
            "display_name": "Python 3.6",
            "language": "python"
        },
        "language_info": {
            "name": "python",
            "version": "3.6.9",
            "mimetype": "text/x-python",
            "codemirror_mode": {
                "name": "ipython",
                "version": 3
            },
            "pygments_lexer": "ipython3",
            "nbconvert_exporter": "python",
            "file_extension": ".py"
        }
    },
    "nbformat": 4,
    "nbformat_minor": 1
}